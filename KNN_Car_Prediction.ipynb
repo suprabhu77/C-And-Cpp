{
  "nbformat": 4,
  "nbformat_minor": 0,
  "metadata": {
    "colab": {
      "name": "KNN-Car_Prediction.ipynb",
      "provenance": [],
      "authorship_tag": "ABX9TyOfB56ZNodh6BMs+A5eUgzN",
      "include_colab_link": true
    },
    "kernelspec": {
      "name": "python3",
      "display_name": "Python 3"
    }
  },
  "cells": [
    {
      "cell_type": "markdown",
      "metadata": {
        "id": "view-in-github",
        "colab_type": "text"
      },
      "source": [
        "<a href=\"https://colab.research.google.com/github/suprabhu77/C-And-Cpp/blob/master/KNN_Car_Prediction.ipynb\" target=\"_parent\"><img src=\"https://colab.research.google.com/assets/colab-badge.svg\" alt=\"Open In Colab\"/></a>"
      ]
    },
    {
      "cell_type": "code",
      "metadata": {
        "id": "jCHE_STLkQ76"
      },
      "source": [
        "import numpy as np\r\n",
        "import pandas as pd\r\n",
        "import matplotlib.pyplot as plt"
      ],
      "execution_count": null,
      "outputs": []
    },
    {
      "cell_type": "code",
      "metadata": {
        "colab": {
          "base_uri": "https://localhost:8080/",
          "height": 419
        },
        "id": "2vpaXGApkxck",
        "outputId": "57624c07-d55e-48c7-87fc-42a18434f64a"
      },
      "source": [
        "dataset = pd.read_csv('/content/sample_data/Iris.csv')\r\n",
        "dataset\r\n",
        "# len(dataset)"
      ],
      "execution_count": null,
      "outputs": [
        {
          "output_type": "execute_result",
          "data": {
            "text/html": [
              "<div>\n",
              "<style scoped>\n",
              "    .dataframe tbody tr th:only-of-type {\n",
              "        vertical-align: middle;\n",
              "    }\n",
              "\n",
              "    .dataframe tbody tr th {\n",
              "        vertical-align: top;\n",
              "    }\n",
              "\n",
              "    .dataframe thead th {\n",
              "        text-align: right;\n",
              "    }\n",
              "</style>\n",
              "<table border=\"1\" class=\"dataframe\">\n",
              "  <thead>\n",
              "    <tr style=\"text-align: right;\">\n",
              "      <th></th>\n",
              "      <th>Id</th>\n",
              "      <th>SepalLengthCm</th>\n",
              "      <th>SepalWidthCm</th>\n",
              "      <th>PetalLengthCm</th>\n",
              "      <th>PetalWidthCm</th>\n",
              "      <th>Species</th>\n",
              "    </tr>\n",
              "  </thead>\n",
              "  <tbody>\n",
              "    <tr>\n",
              "      <th>0</th>\n",
              "      <td>1</td>\n",
              "      <td>5.1</td>\n",
              "      <td>3.5</td>\n",
              "      <td>1.4</td>\n",
              "      <td>0.2</td>\n",
              "      <td>Iris-setosa</td>\n",
              "    </tr>\n",
              "    <tr>\n",
              "      <th>1</th>\n",
              "      <td>2</td>\n",
              "      <td>4.9</td>\n",
              "      <td>3.0</td>\n",
              "      <td>1.4</td>\n",
              "      <td>0.2</td>\n",
              "      <td>Iris-setosa</td>\n",
              "    </tr>\n",
              "    <tr>\n",
              "      <th>2</th>\n",
              "      <td>3</td>\n",
              "      <td>4.7</td>\n",
              "      <td>3.2</td>\n",
              "      <td>1.3</td>\n",
              "      <td>0.2</td>\n",
              "      <td>Iris-setosa</td>\n",
              "    </tr>\n",
              "    <tr>\n",
              "      <th>3</th>\n",
              "      <td>4</td>\n",
              "      <td>4.6</td>\n",
              "      <td>3.1</td>\n",
              "      <td>1.5</td>\n",
              "      <td>0.2</td>\n",
              "      <td>Iris-setosa</td>\n",
              "    </tr>\n",
              "    <tr>\n",
              "      <th>4</th>\n",
              "      <td>5</td>\n",
              "      <td>5.0</td>\n",
              "      <td>3.6</td>\n",
              "      <td>1.4</td>\n",
              "      <td>0.2</td>\n",
              "      <td>Iris-setosa</td>\n",
              "    </tr>\n",
              "    <tr>\n",
              "      <th>...</th>\n",
              "      <td>...</td>\n",
              "      <td>...</td>\n",
              "      <td>...</td>\n",
              "      <td>...</td>\n",
              "      <td>...</td>\n",
              "      <td>...</td>\n",
              "    </tr>\n",
              "    <tr>\n",
              "      <th>145</th>\n",
              "      <td>146</td>\n",
              "      <td>6.7</td>\n",
              "      <td>3.0</td>\n",
              "      <td>5.2</td>\n",
              "      <td>2.3</td>\n",
              "      <td>Iris-virginica</td>\n",
              "    </tr>\n",
              "    <tr>\n",
              "      <th>146</th>\n",
              "      <td>147</td>\n",
              "      <td>6.3</td>\n",
              "      <td>2.5</td>\n",
              "      <td>5.0</td>\n",
              "      <td>1.9</td>\n",
              "      <td>Iris-virginica</td>\n",
              "    </tr>\n",
              "    <tr>\n",
              "      <th>147</th>\n",
              "      <td>148</td>\n",
              "      <td>6.5</td>\n",
              "      <td>3.0</td>\n",
              "      <td>5.2</td>\n",
              "      <td>2.0</td>\n",
              "      <td>Iris-virginica</td>\n",
              "    </tr>\n",
              "    <tr>\n",
              "      <th>148</th>\n",
              "      <td>149</td>\n",
              "      <td>6.2</td>\n",
              "      <td>3.4</td>\n",
              "      <td>5.4</td>\n",
              "      <td>2.3</td>\n",
              "      <td>Iris-virginica</td>\n",
              "    </tr>\n",
              "    <tr>\n",
              "      <th>149</th>\n",
              "      <td>150</td>\n",
              "      <td>5.9</td>\n",
              "      <td>3.0</td>\n",
              "      <td>5.1</td>\n",
              "      <td>1.8</td>\n",
              "      <td>Iris-virginica</td>\n",
              "    </tr>\n",
              "  </tbody>\n",
              "</table>\n",
              "<p>150 rows × 6 columns</p>\n",
              "</div>"
            ],
            "text/plain": [
              "      Id  SepalLengthCm  ...  PetalWidthCm         Species\n",
              "0      1            5.1  ...           0.2     Iris-setosa\n",
              "1      2            4.9  ...           0.2     Iris-setosa\n",
              "2      3            4.7  ...           0.2     Iris-setosa\n",
              "3      4            4.6  ...           0.2     Iris-setosa\n",
              "4      5            5.0  ...           0.2     Iris-setosa\n",
              "..   ...            ...  ...           ...             ...\n",
              "145  146            6.7  ...           2.3  Iris-virginica\n",
              "146  147            6.3  ...           1.9  Iris-virginica\n",
              "147  148            6.5  ...           2.0  Iris-virginica\n",
              "148  149            6.2  ...           2.3  Iris-virginica\n",
              "149  150            5.9  ...           1.8  Iris-virginica\n",
              "\n",
              "[150 rows x 6 columns]"
            ]
          },
          "metadata": {
            "tags": []
          },
          "execution_count": 29
        }
      ]
    },
    {
      "cell_type": "code",
      "metadata": {
        "colab": {
          "base_uri": "https://localhost:8080/"
        },
        "id": "UaNyieYvno0-",
        "outputId": "97bb210c-6c3a-4712-bad5-74057ee02e72"
      },
      "source": [
        "dataset.info()"
      ],
      "execution_count": null,
      "outputs": [
        {
          "output_type": "stream",
          "text": [
            "<class 'pandas.core.frame.DataFrame'>\n",
            "RangeIndex: 150 entries, 0 to 149\n",
            "Data columns (total 6 columns):\n",
            " #   Column         Non-Null Count  Dtype  \n",
            "---  ------         --------------  -----  \n",
            " 0   Id             150 non-null    int64  \n",
            " 1   SepalLengthCm  150 non-null    float64\n",
            " 2   SepalWidthCm   150 non-null    float64\n",
            " 3   PetalLengthCm  150 non-null    float64\n",
            " 4   PetalWidthCm   150 non-null    float64\n",
            " 5   Species        150 non-null    object \n",
            "dtypes: float64(4), int64(1), object(1)\n",
            "memory usage: 7.2+ KB\n"
          ],
          "name": "stdout"
        }
      ]
    },
    {
      "cell_type": "code",
      "metadata": {
        "id": "NLOZ0A8Rvoi5"
      },
      "source": [
        "from sklearn.model_selection import train_test_split\r\n",
        "X=dataset.iloc[:,0:5]\r\n",
        "y = dataset.iloc[:,5]\r\n",
        "X_train, X_test, y_train, y_test = train_test_split(X, y, random_state = 0, test_size =0.2)\r\n"
      ],
      "execution_count": null,
      "outputs": []
    },
    {
      "cell_type": "code",
      "metadata": {
        "id": "aR1mCPFpzabb"
      },
      "source": [
        "from sklearn.preprocessing import StandardScaler\r\n",
        "Sc_X = StandardScaler()\r\n",
        "X_train = Sc_X.fit_transform(X_train)\r\n",
        "X_test = Sc_X.fit_transform(X_test)"
      ],
      "execution_count": null,
      "outputs": []
    },
    {
      "cell_type": "code",
      "metadata": {
        "colab": {
          "base_uri": "https://localhost:8080/"
        },
        "id": "nQ9SH3Im79C2",
        "outputId": "492d1d58-7fb9-4ad1-8a00-898236847a7a"
      },
      "source": [
        "import math\r\n",
        "math.sqrt(len(y_test))\r\n"
      ],
      "execution_count": null,
      "outputs": [
        {
          "output_type": "execute_result",
          "data": {
            "text/plain": [
              "5.477225575051661"
            ]
          },
          "metadata": {
            "tags": []
          },
          "execution_count": 33
        }
      ]
    },
    {
      "cell_type": "code",
      "metadata": {
        "colab": {
          "base_uri": "https://localhost:8080/"
        },
        "id": "LtlvMrPn8fcw",
        "outputId": "fcb5d867-4c6b-410f-9311-58c81838ee57"
      },
      "source": [
        "from sklearn.neighbors import KNeighborsClassifier\r\n",
        "classifier = KNeighborsClassifier(n_neighbors = 3,p=2,metric = 'euclidean')\r\n",
        "classifier.fit(X_train, y_train)"
      ],
      "execution_count": null,
      "outputs": [
        {
          "output_type": "execute_result",
          "data": {
            "text/plain": [
              "KNeighborsClassifier(algorithm='auto', leaf_size=30, metric='euclidean',\n",
              "                     metric_params=None, n_jobs=None, n_neighbors=3, p=2,\n",
              "                     weights='uniform')"
            ]
          },
          "metadata": {
            "tags": []
          },
          "execution_count": 34
        }
      ]
    },
    {
      "cell_type": "code",
      "metadata": {
        "colab": {
          "base_uri": "https://localhost:8080/"
        },
        "id": "Q6Wa-G4m-jdm",
        "outputId": "9fbf518f-3ee4-4394-dc59-fac38213822a"
      },
      "source": [
        "y_pred = classifier.predict(X_test)\r\n",
        "y_pred"
      ],
      "execution_count": null,
      "outputs": [
        {
          "output_type": "execute_result",
          "data": {
            "text/plain": [
              "array(['Iris-virginica', 'Iris-versicolor', 'Iris-setosa',\n",
              "       'Iris-virginica', 'Iris-setosa', 'Iris-virginica', 'Iris-setosa',\n",
              "       'Iris-virginica', 'Iris-versicolor', 'Iris-versicolor',\n",
              "       'Iris-virginica', 'Iris-versicolor', 'Iris-versicolor',\n",
              "       'Iris-versicolor', 'Iris-versicolor', 'Iris-setosa',\n",
              "       'Iris-versicolor', 'Iris-versicolor', 'Iris-setosa', 'Iris-setosa',\n",
              "       'Iris-virginica', 'Iris-versicolor', 'Iris-setosa', 'Iris-setosa',\n",
              "       'Iris-virginica', 'Iris-setosa', 'Iris-setosa', 'Iris-virginica',\n",
              "       'Iris-versicolor', 'Iris-setosa'], dtype=object)"
            ]
          },
          "metadata": {
            "tags": []
          },
          "execution_count": 35
        }
      ]
    },
    {
      "cell_type": "code",
      "metadata": {
        "colab": {
          "base_uri": "https://localhost:8080/"
        },
        "id": "s7DFIFyINcOo",
        "outputId": "f0989922-dbb4-43d7-cd48-710a383dff33"
      },
      "source": [
        "X_test"
      ],
      "execution_count": null,
      "outputs": [
        {
          "output_type": "execute_result",
          "data": {
            "text/plain": [
              "array([[ 1.36482834,  0.14956537, -0.58304897,  0.94512598,  1.91948971],\n",
              "       [-0.09748774,  0.43000045, -1.9460206 ,  0.2829358 , -0.10102577],\n",
              "       [-0.91301017, -0.27108724,  2.59721815, -1.28224097, -1.25560605],\n",
              "       [ 1.1679781 ,  2.25282843, -0.35588703,  1.66751526,  1.0535545 ],\n",
              "       [-1.64416821, -0.97217492,  0.77992265, -1.22204187, -1.25560605],\n",
              "       [ 0.97112786,  0.85065306,  0.55276071,  1.48691794,  2.06381224],\n",
              "       [-0.71615993, -0.97217492,  1.00708459, -1.34244008, -1.11128352],\n",
              "       [ 0.57742738,  1.41152321,  0.09843684,  0.70432955,  0.6205869 ],\n",
              "       [ 0.29621274,  1.55174074, -0.58304897,  0.76452866,  0.47626436],\n",
              "       [ 0.15560543,  0.57021798, -0.58304897,  0.2829358 ,  0.33194183],\n",
              "       [ 1.9272576 ,  0.57021798, -1.03737285,  1.24612151,  0.47626436],\n",
              "       [-0.40682383,  0.9908706 ,  0.32559878,  0.58393134,  0.6205869 ],\n",
              "       [ 0.21184836,  0.57021798, -0.58304897,  0.70432955,  0.18761929],\n",
              "       [-0.32245944,  1.13108813, -0.58304897,  0.64413044,  0.6205869 ],\n",
              "       [-0.06936628,  0.57021798, -0.35588703,  0.70432955,  0.47626436],\n",
              "       [-0.80052432, -1.11239246,  0.09843684, -1.22204187, -1.39992858],\n",
              "       [ 0.35245567,  0.43000045, -0.35588703,  0.58393134,  0.6205869 ],\n",
              "       [ 0.68991323, -0.27108724, -1.03737285,  0.52373223,  0.18761929],\n",
              "       [-0.57555261, -1.25261   , -0.1287251 , -1.28224097, -1.11128352],\n",
              "       [-1.39107504, -0.41130478,  1.91573234, -1.34244008, -0.96696098],\n",
              "       [ 1.56167858, -0.1308697 , -0.58304897,  0.82472776,  1.34219957],\n",
              "       [ 0.01499811, -0.1308697 , -0.1287251 ,  0.58393134,  0.6205869 ],\n",
              "       [-1.16610334, -1.25261   ,  0.77992265, -0.98124544, -1.25560605],\n",
              "       [-1.61604674, -1.81348015, -0.35588703, -1.28224097, -1.25560605],\n",
              "       [ 1.7022859 ,  0.71043552, -0.58304897,  0.76452866,  1.0535545 ],\n",
              "       [-1.22234626, -1.53304507,  1.23424653, -1.5230374 , -1.25560605],\n",
              "       [-0.60367407, -0.83195739,  1.6885704 , -0.98124544, -0.96696098],\n",
              "       [ 0.88676347,  0.71043552, -0.35588703,  0.46353312,  0.33194183],\n",
              "       [ 0.77427762, -0.97217492, -1.71885866, -0.13845795, -0.10102577],\n",
              "       [-1.10986041, -0.97217492,  0.77992265, -1.16184276, -0.96696098]])"
            ]
          },
          "metadata": {
            "tags": []
          },
          "execution_count": 36
        }
      ]
    },
    {
      "cell_type": "code",
      "metadata": {
        "id": "FTo0VxoXNZYp"
      },
      "source": [
        "# y_pred = classifier.predict([[-1.64416821, -0.97217492,  0.77992265, -1.22204187, -1.25560605]])\r\n",
        "# y_pred"
      ],
      "execution_count": null,
      "outputs": []
    },
    {
      "cell_type": "code",
      "metadata": {
        "id": "g6TfjqJP_l5a"
      },
      "source": [
        "from sklearn.metrics import confusion_matrix\r\n",
        "from sklearn.metrics import f1_score\r\n",
        "from sklearn.metrics import accuracy_score"
      ],
      "execution_count": null,
      "outputs": []
    },
    {
      "cell_type": "code",
      "metadata": {
        "colab": {
          "base_uri": "https://localhost:8080/"
        },
        "id": "ggym2G6MACc8",
        "outputId": "36f0b01e-9d8f-4b16-a923-fd7a1bad18db"
      },
      "source": [
        "y_test.shape\r\n",
        "confusion_matrix_value = confusion_matrix(y_test,y_pred)\r\n",
        "print(confusion_matrix_value)"
      ],
      "execution_count": null,
      "outputs": [
        {
          "output_type": "stream",
          "text": [
            "[[11  0  0]\n",
            " [ 0 11  2]\n",
            " [ 0  0  6]]\n"
          ],
          "name": "stdout"
        }
      ]
    },
    {
      "cell_type": "code",
      "metadata": {
        "colab": {
          "base_uri": "https://localhost:8080/"
        },
        "id": "wMMBNi8pDNIY",
        "outputId": "0dae0409-4a6c-405e-d5c5-032a5708194c"
      },
      "source": [
        "print(accuracy_score(y_test,y_pred)*100)\r\n",
        "print(f1_score(y_test,y_pred,average='macro')*100)"
      ],
      "execution_count": null,
      "outputs": [
        {
          "output_type": "stream",
          "text": [
            "93.33333333333333\n",
            "92.46031746031746\n"
          ],
          "name": "stdout"
        }
      ]
    },
    {
      "cell_type": "code",
      "metadata": {
        "colab": {
          "base_uri": "https://localhost:8080/"
        },
        "id": "35GwmdiND_G0",
        "outputId": "34138e65-2df0-420b-9645-6998f14f2dda"
      },
      "source": [
        "import pickle \r\n",
        "  \r\n",
        "# Save the trained model as a pickle string. \r\n",
        "saved_model = pickle.dumps(classifier) \r\n",
        "  \r\n",
        "# Load the pickled model \r\n",
        "knn_from_pickle = pickle.loads(saved_model) \r\n",
        "  \r\n",
        "# Use the loaded pickled model to make predictions \r\n",
        "knn_from_pickle.predict([[-1.675433, .9886657\t,0.39887786655,\t.2\t,0.2099077635332]])"
      ],
      "execution_count": null,
      "outputs": [
        {
          "output_type": "execute_result",
          "data": {
            "text/plain": [
              "array(['Iris-versicolor'], dtype=object)"
            ]
          },
          "metadata": {
            "tags": []
          },
          "execution_count": 41
        }
      ]
    }
  ]
}